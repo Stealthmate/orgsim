{
 "cells": [
  {
   "cell_type": "markdown",
   "id": "fc480261-d5fd-4007-aeb1-f7ca119ec6db",
   "metadata": {},
   "source": [
    "# Orgsim - Playing around with organizational dynamics"
   ]
  },
  {
   "cell_type": "markdown",
   "id": "3d399aba-4fb9-4f8a-a829-10cc2b84555c",
   "metadata": {},
   "source": [
    "Ok, this is it. The goal of this notebook is to end up into something resembling a research paper."
   ]
  },
  {
   "cell_type": "markdown",
   "id": "f68239db-c955-418c-807c-90c79cc5f6aa",
   "metadata": {},
   "source": [
    "## Introduction\n",
    "\n",
    "I have been working at a relatively big software company for around 4 years now, and recently I developed a heavy interest towards organizational dynamics. What's that, you ask? It is basically a fancy name for corporate politics.\n",
    "\n",
    "No, but seriously. I am confident that a lot of people working in big corporations have experienced corporate politics in one form or another.\n",
    "\n",
    "> If only I could convince my manager to let me do this thing which is so very obviously the best way to fix our issues right now...\n",
    "> \n",
    "> Why is my team so... slow? It takes ages to do simple things!\n",
    "> \n",
    "> Why am I even working for this company? Should I just YOLO it and start my own?\n",
    "\n",
    "I guarantee that any software engineer with more than 1 year of professional experience has had thoughts like this before. Personally, I have even gone through mental breakdowns for reasons as stupid as someone telling me I should \"be more interested in achieving the team's purpose\".\n",
    "\n",
    "After a few such mental breakdowns, I reached the conclusion that pure software engineering can only get you so far. The biggest bottleneck in large organizations is not the engineering, but rather the politics - getting people to do what you need them to do. That chain of thought led me to read a bunch of management books, and even study accounting. After about a year and a half of that, I went even deeper into the rabbit hole and asked the one question to rule them all.\n",
    "\n",
    "**Why do organizations even _exist_? Like, what's the ultimate point of bundling a bunch of people together?**\n",
    "\n",
    "Now I know what you want to say - organizations exist to achieve a common purpose! That sounds pretty reasonable until you start thinking about your average modern-day for-profit corporation. I'm sorry, but you cannot convince me that every single employee of every single company is a full-time believer in said company's so-called mission.\n",
    "\n",
    "Honestly, I don't think I'm qualified enough to write on this subject yet, but after reading some books and pondering by myself for a few months, I have reached the conclusion that the _theoretical purpose_ of all organizations is to enrich the lives of their members. Yes, you read that correctly.\n",
    "\n",
    "I suppose a conventional opinion would be that organizations exist to enrich the lives of someone other than their members (e.g. most people who benefit from hospitals are not doctors), however personally I view this through a slightly different lens. The purpose of, for example, a hospital is to fulfil the wishes of the people who belong to it - doctors, nurses, board members, etc. Each of these people benefit from the hospital, albeit not necessarily in the same ways. For starters, all of the above get paid, which allows them to _survive_. But other than that, I would argue that doctors and nurses intrinsically value the act of healing people more than, say, the accumulation of wealth. After all, if they were in it _only_ for the money, there are probably more cost-effective careers out there. As for the benefit for society, that is to say people _outside_ of the hospital organization, that is simply a side effect of the fact that doctors and nurses pursue their own values.\n",
    "\n",
    "Back to corporate politics. If we assume that the above chain of thought is sufficiently reasonable, we immediately run into a sort of paradox when considering your average corporate environment. That is to say, I haven't seen many pepole who can proudly proclaim that they are valued by their company. So how do we explain that?\n",
    "\n",
    "My take is that, while the company does exist to benefit its members, the amount it benefits each member is different. In particular, the benefits towards each individual member are a result of the way all members' selfishness interacts with the way the organization is structured. Or to put it in simpler terms - all companies can be viewed as *games with certain rules*, which impact different players differently. Looking at it this way, corporate politics are essentially a manifestation of the Prisoner's Dilemma."
   ]
  },
  {
   "cell_type": "markdown",
   "id": "224936c3-add8-40c9-8738-c2d9a4083bf4",
   "metadata": {},
   "source": [
    "## Organizations as games\n",
    "\n"
   ]
  },
  {
   "cell_type": "markdown",
   "id": "c79dfec7-e67c-4fe0-9e82-747be7b74b95",
   "metadata": {},
   "source": [
    "## The Game\n",
    "\n",
    "TODO: explain the game rules"
   ]
  },
  {
   "cell_type": "markdown",
   "id": "4869cf77-9d2a-42d5-9cfe-9f4c3e3e0c00",
   "metadata": {},
   "source": [
    "## The Variants\n",
    "\n",
    "TODO: explain what strategies I experimented with and how each one works"
   ]
  },
  {
   "cell_type": "markdown",
   "id": "c348dc39-c180-4855-bbfb-7618cd80eb0e",
   "metadata": {},
   "source": [
    "## Comparing the results\n",
    "\n",
    "TODO: provide data and some qualitative analysis on how different strategies performed"
   ]
  },
  {
   "cell_type": "markdown",
   "id": "dbdfb8f5-c631-408c-a918-8190862816df",
   "metadata": {},
   "source": [
    "## Conclusions and further questions\n",
    "\n",
    "TODO"
   ]
  }
 ],
 "metadata": {
  "kernelspec": {
   "display_name": "Python 3 (ipykernel)",
   "language": "python",
   "name": "python3"
  },
  "language_info": {
   "codemirror_mode": {
    "name": "ipython",
    "version": 3
   },
   "file_extension": ".py",
   "mimetype": "text/x-python",
   "name": "python",
   "nbconvert_exporter": "python",
   "pygments_lexer": "ipython3",
   "version": "3.12.3"
  }
 },
 "nbformat": 4,
 "nbformat_minor": 5
}
