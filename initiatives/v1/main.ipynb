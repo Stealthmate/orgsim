{
 "cells": [
  {
   "cell_type": "markdown",
   "id": "fc480261-d5fd-4007-aeb1-f7ca119ec6db",
   "metadata": {},
   "source": [
    "# TODO: title"
   ]
  },
  {
   "cell_type": "markdown",
   "id": "3d399aba-4fb9-4f8a-a829-10cc2b84555c",
   "metadata": {},
   "source": [
    "Ok, this is it. The goal of this notebook is to end up into something resembling a research paper."
   ]
  },
  {
   "cell_type": "markdown",
   "id": "f68239db-c955-418c-807c-90c79cc5f6aa",
   "metadata": {},
   "source": [
    "## Introduction\n",
    "\n",
    "TODO"
   ]
  },
  {
   "cell_type": "markdown",
   "id": "c79dfec7-e67c-4fe0-9e82-747be7b74b95",
   "metadata": {},
   "source": [
    "## The Game\n",
    "\n",
    "TODO: explain the game rules"
   ]
  },
  {
   "cell_type": "markdown",
   "id": "4869cf77-9d2a-42d5-9cfe-9f4c3e3e0c00",
   "metadata": {},
   "source": [
    "## The Variants\n",
    "\n",
    "TODO: explain what strategies I experimented with and how each one works"
   ]
  },
  {
   "cell_type": "markdown",
   "id": "c348dc39-c180-4855-bbfb-7618cd80eb0e",
   "metadata": {},
   "source": [
    "## Comparing the results\n",
    "\n",
    "TODO: provide data and some qualitative analysis on how different strategies performed"
   ]
  },
  {
   "cell_type": "markdown",
   "id": "dbdfb8f5-c631-408c-a918-8190862816df",
   "metadata": {},
   "source": [
    "## Conclusions and further questions\n",
    "\n",
    "TODO"
   ]
  }
 ],
 "metadata": {
  "kernelspec": {
   "display_name": "Python 3 (ipykernel)",
   "language": "python",
   "name": "python3"
  },
  "language_info": {
   "codemirror_mode": {
    "name": "ipython",
    "version": 3
   },
   "file_extension": ".py",
   "mimetype": "text/x-python",
   "name": "python",
   "nbconvert_exporter": "python",
   "pygments_lexer": "ipython3",
   "version": "3.12.3"
  }
 },
 "nbformat": 4,
 "nbformat_minor": 5
}
