{
 "cells": [
  {
   "cell_type": "markdown",
   "id": "75055087-cc3a-49ec-81f7-b5acf0885e1c",
   "metadata": {},
   "source": [
    "`refactor: recruitment process`\n",
    "\n",
    "(d = 00:45)\n",
    "\n",
    "I started working on some specific implementations of specific models, but then I realized that the recruitment logic is flawed - there's no way to specify how many candidates need to be recruited. I rewrote a bit of the code to fix that and now the process is terminated using `StopIteration`.  "
   ]
  }
 ],
 "metadata": {
  "kernelspec": {
   "display_name": "Python 3 (ipykernel)",
   "language": "python",
   "name": "python3"
  },
  "language_info": {
   "codemirror_mode": {
    "name": "ipython",
    "version": 3
   },
   "file_extension": ".py",
   "mimetype": "text/x-python",
   "name": "python",
   "nbconvert_exporter": "python",
   "pygments_lexer": "ipython3",
   "version": "3.12.3"
  }
 },
 "nbformat": 4,
 "nbformat_minor": 5
}
