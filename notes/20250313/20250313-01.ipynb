{
 "cells": [
  {
   "cell_type": "markdown",
   "id": "85f0a42d-a504-4fd5-897b-cd5d1d0f9a61",
   "metadata": {},
   "source": [
    "I refactored the framework so that PersonSeed is now a generic variable, which should allow me to be a bit more flexible with how I handle people in models. I still have to rewrite the strategy parts though - I want to be able to have a single class per person seed type, which specifies how people are born, act, die etc."
   ]
  },
  {
   "cell_type": "markdown",
   "id": "71789f5f-7b3f-448a-a46e-65743d514c6c",
   "metadata": {},
   "source": [
    "I split up the time part of the WorldState so that I don't have to use generics in Metrics. I should also probably move the time advancing logic to framework instead of keeping it in strategy."
   ]
  },
  {
   "cell_type": "markdown",
   "id": "96a65f41-fab6-465d-8df1-4404bc6c8c8d",
   "metadata": {},
   "source": [
    "Done"
   ]
  },
  {
   "cell_type": "markdown",
   "id": "78b8efc6-b8fa-489c-9092-0976d8c5b904",
   "metadata": {},
   "source": [
    "(20:28)\n",
    "\n",
    "Holy hell, it's been almost 3 hours since I started working. I spent a lot of time staring at the code and thinking about exactly what I'm trying to model. At this point I know that I want to have a few different layers of abstraction, but it was kinda hard deciding what goes where.\n",
    "\n",
    "For now, I've implemented a brand new `World` abstraction, which is supposed to be the top-level abstraction and defines the most basic rules of the game. See `orgsim.world` for more details.\n",
    "\n",
    "`World` is designed around 3 entities (you might even call them _players_):\n",
    "1. `Org` - the organization itself.\n",
    "2. `Individual` - the individual people inside the org.\n",
    "3. `Nature` - the entity that does things which are outside of the control of the above two.\n",
    "\n",
    "To put it very briefly - `Org` and `Individual`s take turns acting and reacting to each other every day. When the end of the fiscal period arrives, `Org` acts together with `Nature` to recruit new `Individual`s. Additionally, `Nature` is allowed to act on `Individual`s every day and possibly kill them.\n",
    "\n",
    "Finally, `World` depends on two more concepts - `CommonState` and `Candidate`. `CommonState` is used by all 3 entities, whereas `Candidate` is used by `Org` and `Nature` for the recruitment process."
   ]
  },
  {
   "cell_type": "markdown",
   "id": "6a90ed03-682c-4dd2-af0a-238ec3970864",
   "metadata": {},
   "source": [
    "#### Next steps\n",
    "\n",
    "I suppose the next step would be to come up with a slightly lower-level abstraction, which implements `CommonState` and `Candidate`. `CommonState` shouldn't be too hard - I can probably use generics to deal with state specific to each `Org` / `Individual` / `Nature`. On the other hand, `Candidate` would be quite a key concept. `Candidate` defines how much information the `Org` can see about an `Individual` prior to hiring them, as well as the seed for generating each `Individual`'s behaviour. I might be able to split that into parts specific to each entity, but I'm not really sure right now."
   ]
  },
  {
   "cell_type": "markdown",
   "id": "50086722-e49c-43be-bbbd-a81aaca43fe4",
   "metadata": {},
   "source": [
    "---\n",
    "\n",
    "(20:50)\n",
    "\n",
    "OK, I managed to split up `Candidate` into a public and a private part. And all of that inside the top-level abstraction! Hooray, I guess!"
   ]
  },
  {
   "cell_type": "markdown",
   "id": "d71550cc-4f2d-4371-80f2-4160ed56fa62",
   "metadata": {},
   "source": [
    "---\n",
    "\n",
    "(20:52)\n",
    "\n",
    "At first I thought I might be able to split `CommonState` as well, but after thinking about it a bit more, I think that's probably not a good idea. At the end of the day, `CommonState` is going to depend on the exact combination of `Org` / `Individual` / `Nature`, so it might end up being the most burdensome to implement.\n",
    "\n",
    "I think I should be able to implement the basic individual strategies (`ConstantSelfishness` and `ConstantAntiSelfishness`) for any kind of `CommonState`."
   ]
  },
  {
   "cell_type": "markdown",
   "id": "69ceaec4-1ec4-4ecc-9090-007e78cc12b0",
   "metadata": {},
   "source": [
    "---\n",
    "\n",
    "(21:13)\n",
    "\n",
    "Ok, I renamed `CommonState` to `State` and then split _that_ into one state for each type of entity, as well as a common state. I also tried defining some dummy classes, and it looks like I'll be able to combine partially generic classes into a well-defined `WorldConfig` without problems. Woohoo!\n",
    "\n",
    "Next step now is definitely implementing the `Constant*` strategies. That shouldn't be too hard."
   ]
  }
 ],
 "metadata": {
  "kernelspec": {
   "display_name": "Python 3 (ipykernel)",
   "language": "python",
   "name": "python3"
  },
  "language_info": {
   "codemirror_mode": {
    "name": "ipython",
    "version": 3
   },
   "file_extension": ".py",
   "mimetype": "text/x-python",
   "name": "python",
   "nbconvert_exporter": "python",
   "pygments_lexer": "ipython3",
   "version": "3.12.3"
  }
 },
 "nbformat": 4,
 "nbformat_minor": 5
}
