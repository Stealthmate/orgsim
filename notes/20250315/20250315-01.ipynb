{
 "cells": [
  {
   "cell_type": "markdown",
   "id": "7a891991-654e-4195-9912-2718944873c2",
   "metadata": {},
   "source": [
    "(d = 00:13 + 00:70)\n",
    "\n",
    "Phew, I think I added a lot of stuff, so let's go through it piece of piece.\n",
    "\n",
    "First of all, I was trying to implement a specific model (and I kinda almost finished it), but during that process I found some problems with `world`, so I'll be comitting the fixes for those first.\n",
    "\n",
    "##### Metrics\n",
    "\n",
    "I added a simple ABC definition for `Metrics` inside `world`, and wrote the logic for logging the most fundamental values for each model. Currently those are mostly related to the number of individuals in the world - number of people alive, number of people killed and number of people recruited. Though I should be able to add more metrics pretty easily, if I ever need to.\n",
    "\n",
    "##### Other stuff\n",
    "\n",
    "- Individuals' `init` method was not being called on recruitment, so I fixed that.\n",
    "- Individuals should be able to do cleanup on death, so I added a `die` method to hold that logic.\n",
    "- `BaseWorldState` holds the seeding logic as a classmethod now."
   ]
  },
  {
   "cell_type": "markdown",
   "id": "3af9f93d-018c-4b87-8bfb-88e7f4dffb3c",
   "metadata": {},
   "source": [
    "---\n",
    "\n",
    "`(d = 00:28)`\n",
    "\n",
    "Again, by trying to implement a specific model I stumbled upon problems with the `world` abstraction.\n",
    "\n",
    "- Turns out I hadn't implemented initialization logic for `IndividualState`. I had forgotten that I'm storing the `Individual` (implementation) and `IndividualState` separately. I just abstracted it so that I always set/unset both at the same time.\n",
    "- I added a new method to `Nature` for setting the generating the initial individuals in the world."
   ]
  },
  {
   "cell_type": "markdown",
   "id": "1c676ce9-d154-4467-86d4-daa87327f114",
   "metadata": {},
   "source": [
    "---\n",
    "\n",
    "`(d = 00:25)`\n",
    "\n",
    "I want to implement some basic plotting logic in order ot be able to compare different worlds. I'll try to do that under `explore`."
   ]
  },
  {
   "cell_type": "markdown",
   "id": "16c0ec7d-dc24-43c1-b7cc-7da6e2d2e24b",
   "metadata": {},
   "source": [
    "---\n",
    "\n",
    "`(d = 00:40)`\n",
    "\n",
    "I moved `base_state` inside the `state` variable. Nothing too fancy."
   ]
  },
  {
   "cell_type": "markdown",
   "id": "bd09882b-6b2e-4fe2-a854-7169534d2671",
   "metadata": {},
   "source": [
    "---\n",
    "\n",
    "`(d = 00:06)`\n",
    "\n",
    "I implemented some simple functions to plot metrics for the `World` itself. This should give me a reasonable common way of comparing different worlds."
   ]
  },
  {
   "cell_type": "markdown",
   "id": "9cb4794b-b387-45f9-a09d-c0a5c91f4354",
   "metadata": {},
   "source": [
    "---\n",
    "\n",
    "`(d = 00:15)`\n",
    "\n",
    "Ok, this is a gonna be a big one.\n",
    "\n",
    "I moved all the new implementations into `orgism.world.v1`. I thought about it for a while, and I think what I'm trying to do is set up a way to preserve older code without having to do commit magic (going back to previous commits) just so that my experiments can run.\n",
    "\n",
    "Then again....\n",
    "\n",
    "I'm starting to think that I should keep my notes in a separate repository, and then reference specific versions of the main codebase as needed in my experiments. Or maybe I can keep everything in a monorepo, but put the notes in a different environment, then reference the main package from tagged github versions as needed. Yeah, that should work as well. For increased readibility, I could split up all my commits and give them a specific prefix depending on content. That is to say, for example I could use `model: ` for commits changing the model and `journal: ` for commits regarding my notes/experiments.\n",
    "\n",
    "Back to the model itself. I'm commiting the example model I was working on while improving the world and metrics functions. It's still not complete, but it's complete enough to be able to produce a population graph. Next I should work on implementing the remaining functions and making sure that it works as intended.\n",
    "\n",
    "While doing that, I'd like to also work on producing some kind of \"final\" article regarding some specific org setup. E.g. I could take all the selfishness stuff I was playing around with, and write an article about how the org performs using different parameter values. It won't be perfect by any means, but it will give me some specific constraints to work on, which should make thinking about this whole concept easier.\n",
    "\n",
    "Anyway, as usual I have a lot left to do."
   ]
  }
 ],
 "metadata": {
  "kernelspec": {
   "display_name": "Python 3 (ipykernel)",
   "language": "python",
   "name": "python3"
  },
  "language_info": {
   "codemirror_mode": {
    "name": "ipython",
    "version": 3
   },
   "file_extension": ".py",
   "mimetype": "text/x-python",
   "name": "python",
   "nbconvert_exporter": "python",
   "pygments_lexer": "ipython3",
   "version": "3.12.3"
  }
 },
 "nbformat": 4,
 "nbformat_minor": 5
}
