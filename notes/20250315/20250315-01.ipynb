{
 "cells": [
  {
   "cell_type": "markdown",
   "id": "7a891991-654e-4195-9912-2718944873c2",
   "metadata": {},
   "source": [
    "(d = 00:13 + 00:70)\n",
    "\n",
    "Phew, I think I added a lot of stuff, so let's go through it piece of piece.\n",
    "\n",
    "First of all, I was trying to implement a specific model (and I kinda almost finished it), but during that process I found some problems with `world`, so I'll be comitting the fixes for those first.\n",
    "\n",
    "##### Metrics\n",
    "\n",
    "I added a simple ABC definition for `Metrics` inside `world`, and wrote the logic for logging the most fundamental values for each model. Currently those are mostly related to the number of individuals in the world - number of people alive, number of people killed and number of people recruited. Though I should be able to add more metrics pretty easily, if I ever need to.\n",
    "\n",
    "##### Other stuff\n",
    "\n",
    "- Individuals' `init` method was not being called on recruitment, so I fixed that.\n",
    "- Individuals should be able to do cleanup on death, so I added a `die` method to hold that logic.\n",
    "- `BaseWorldState` holds the seeding logic as a classmethod now."
   ]
  },
  {
   "cell_type": "markdown",
   "id": "3af9f93d-018c-4b87-8bfb-88e7f4dffb3c",
   "metadata": {},
   "source": [
    "---\n",
    "\n",
    "`(d = 00:28)`\n",
    "\n",
    "Again, by trying to implement a specific model I stumbled upon problems with the `world` abstraction.\n",
    "\n",
    "- Turns out I hadn't implemented initialization logic for `IndividualState`. I had forgotten that I'm storing the `Individual` (implementation) and `IndividualState` separately. I just abstracted it so that I always set/unset both at the same time.\n",
    "- I added a new method to `Nature` for setting the generating the initial individuals in the world."
   ]
  },
  {
   "cell_type": "markdown",
   "id": "1c676ce9-d154-4467-86d4-daa87327f114",
   "metadata": {},
   "source": [
    "---\n",
    "\n",
    "`(d = 00:25)`\n",
    "\n",
    "I want to implement some basic plotting logic in order ot be able to compare different worlds. I'll try to do that under `explore`."
   ]
  },
  {
   "cell_type": "markdown",
   "id": "16c0ec7d-dc24-43c1-b7cc-7da6e2d2e24b",
   "metadata": {},
   "source": [
    "---\n",
    "\n",
    "`(d = 00:40)`\n",
    "\n",
    "I moved `base_state` inside the `state` variable. Nothing too fancy."
   ]
  },
  {
   "cell_type": "markdown",
   "id": "bd09882b-6b2e-4fe2-a854-7169534d2671",
   "metadata": {},
   "source": [
    "---\n",
    "\n",
    "`(d = 00:06)`\n",
    "\n",
    "I implemented some simple functions to plot metrics for the `World` itself. This should give me a reasonable common way of comparing different worlds."
   ]
  },
  {
   "cell_type": "markdown",
   "id": "9cb4794b-b387-45f9-a09d-c0a5c91f4354",
   "metadata": {},
   "source": [
    "---\n",
    "\n",
    "`(d = 00:15)`\n",
    "\n",
    "Ok, this is a gonna be a big one.\n",
    "\n",
    "I moved all the new implementations into `orgism.world.v1`. I thought about it for a while, and I think what I'm trying to do is set up a way to preserve older code without having to do commit magic (going back to previous commits) just so that my experiments can run.\n",
    "\n",
    "Then again....\n",
    "\n",
    "I'm starting to think that I should keep my notes in a separate repository, and then reference specific versions of the main codebase as needed in my experiments. Or maybe I can keep everything in a monorepo, but put the notes in a different environment, then reference the main package from tagged github versions as needed. Yeah, that should work as well. For increased readibility, I could split up all my commits and give them a specific prefix depending on content. That is to say, for example I could use `model: ` for commits changing the model and `journal: ` for commits regarding my notes/experiments.\n",
    "\n",
    "Back to the model itself. I'm commiting the example model I was working on while improving the world and metrics functions. It's still not complete, but it's complete enough to be able to produce a population graph. Next I should work on implementing the remaining functions and making sure that it works as intended.\n",
    "\n",
    "While doing that, I'd like to also work on producing some kind of \"final\" article regarding some specific org setup. E.g. I could take all the selfishness stuff I was playing around with, and write an article about how the org performs using different parameter values. It won't be perfect by any means, but it will give me some specific constraints to work on, which should make thinking about this whole concept easier.\n",
    "\n",
    "Anyway, as usual I have a lot left to do."
   ]
  },
  {
   "cell_type": "markdown",
   "id": "8c63db34-c08a-47d5-8878-3c429f1cd5c0",
   "metadata": {},
   "source": [
    "---\n",
    "\n",
    "Versioning is confusing...\n",
    "\n",
    "So I think I might actually want to have multiple version chains for different things.\n",
    "\n",
    "1. The \"library\"\n",
    "2. My notes\n",
    "3. Each \"paper\"\n",
    "\n",
    "The first two are pretty self-explanatory. As for the \"paper\" part - I think I should set myself a specific goal before I start doing any kind of work. Then I can dedicate 1 version chain to that goal, and do work in small increments in order to achieve it. The key idea here is that each \"goal\" can only ever use 1 version of the library. On the other hand, the library should move fairly quickly, and it shoud aim to become more and more expressive, that is to say it should become easier and eaiser to express differen concepts within the same version of the library.\n",
    "\n",
    "So now the question becomes - **what is my current goal? What do I aim to achieve with this so-called \"research\"?**\n",
    "\n",
    "Originally, my goal would have been to construct a model that is more or less equivalent to my current company, construct a few different player strategies, and then find a startegy that is *optimal*. Optimality here would be a state where the most selfish acts are simultaneously the most selfless, that is to say, they help the Org as well as the Individuals.\n",
    "\n",
    "Needless to say, this is a pretty big goal. After working on it for a while, I've come te realize that I won't be able to complete this in one go. So now I need to split it into smaller ones. What is some specific goal that is small enough for me to tackle alone, yet specific and meaningful enough to guide me towards progress to the \"big\" goal?\n",
    "\n",
    "I already have a basic understanding of how I want to model my experiments. I have a farily sophisticated implementation of a \"game engine\" (the `World`) which can run orgs with different rules. The next step here would be to find a way to compare different models. But what exactly am I trying to compare?\n",
    "\n",
    "I think there are two fundamental sets of rules that I need to be thinking about. The first is the rules of the world itself - the rules governing what the world is, how the Org and the Individuals act inside it, etc. Those are rules that I don't want to vary between experiments. Rules that are intended to be constant, and as faithful as possible to the real world. On the other hand, as I do more and more experiments, I will most likely find ways to refine those rules. In that sense, they do change over time.\n",
    "\n",
    "The second set of rules is the one governing the specific actions of each entity inside the world. Those are the rules that govern what it means for Individuals to act, how the Org evaluates the Individuals and replaces them, and so on. Those are rules that I do want to vary between experiments, for the purposes of finding an optimal result.\n",
    "\n",
    "And here I am again, talking about \"optimality\". What exactly do I mean by that?\n",
    "\n",
    "One basic idea, that I can think of right now, is the population of the world. One view on optimality would imply that the Org survives indefinitely. But I also need to consider optimality for the individual. I guess what I'm trying to do, specifically, is to prove that certain conditions produce a maxiumal combination of both Org and Individual optimality criteria. A more mathematical way of approaching this would be to define this whole idea as a problem of dual value optimization.\n",
    "\n",
    "I tried googling this and stumbled upon a few different ideas named after Vilfredo Pareto.\n",
    "\n",
    "- https://en.wikipedia.org/wiki/Pareto_efficiency\n",
    "- https://en.wikipedia.org/wiki/Multi-objective_optimization\n",
    "\n",
    "After looking around some more, I'm starting to think that maybe I should suck it up and start reading some proper books on game theory. For reference:\n",
    "\n",
    "- https://math.stackexchange.com/questions/3779545/books-for-game-theory\n",
    "- https://www.amazon.co.jp/-/en/Martin-J-Osborne/dp/0195322487\n",
    "- https://www.amazon.co.jp/dp/0262650401\n",
    "\n",
    "Before I get ahead of myself - yes, I should probably read some books, but I shouldn't fall into the \"theory before practice\" trap. I can read books _and_ work on my model as needed. The point is to have fun, not to optimize for maximum research efficiency or anything like that.\n",
    "\n",
    "So, back to the model. I know that I need to optimize for two sets of things simultaneously - the wealth of each individual, and the wealth of the org as a whole. I can possibly expand this later to define the Org as a set of specific individuals, but that is getting way out of the scope I can currently handle, so I\"m going to intentionally ignore it.\n",
    "\n",
    "...Or _should_ I ignore it? Think back to what I originally wanted to prove. My whole problem is about shitty team leadership. I want to show that Orgs perform best when leaders consider each individual's needs on the same level as their (the Org's) needs. \n",
    "\n",
    "`(d = 01:06)`"
   ]
  }
 ],
 "metadata": {
  "kernelspec": {
   "display_name": "Python 3 (ipykernel)",
   "language": "python",
   "name": "python3"
  },
  "language_info": {
   "codemirror_mode": {
    "name": "ipython",
    "version": 3
   },
   "file_extension": ".py",
   "mimetype": "text/x-python",
   "name": "python",
   "nbconvert_exporter": "python",
   "pygments_lexer": "ipython3",
   "version": "3.12.3"
  }
 },
 "nbformat": 4,
 "nbformat_minor": 5
}
