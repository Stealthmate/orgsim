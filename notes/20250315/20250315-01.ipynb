{
 "cells": [
  {
   "cell_type": "markdown",
   "id": "7a891991-654e-4195-9912-2718944873c2",
   "metadata": {},
   "source": [
    "(d = 00:13 + 00:70)\n",
    "\n",
    "Phew, I think I added a lot of stuff, so let's go through it piece of piece.\n",
    "\n",
    "First of all, I was trying to implement a specific model (and I kinda almost finished it), but during that process I found some problems with `world`, so I'll be comitting the fixes for those first.\n",
    "\n",
    "##### Metrics\n",
    "\n",
    "I added a simple ABC definition for `Metrics` inside `world`, and wrote the logic for logging the most fundamental values for each model. Currently those are mostly related to the number of individuals in the world - number of people alive, number of people killed and number of people recruited. Though I should be able to add more metrics pretty easily, if I ever need to.\n",
    "\n",
    "##### Other stuff\n",
    "\n",
    "- Individuals' `init` method was not being called on recruitment, so I fixed that.\n",
    "- Individuals should be able to do cleanup on death, so I added a `die` method to hold that logic.\n",
    "- `BaseWorldState` holds the seeding logic as a classmethod now."
   ]
  }
 ],
 "metadata": {
  "kernelspec": {
   "display_name": "Python 3 (ipykernel)",
   "language": "python",
   "name": "python3"
  },
  "language_info": {
   "codemirror_mode": {
    "name": "ipython",
    "version": 3
   },
   "file_extension": ".py",
   "mimetype": "text/x-python",
   "name": "python",
   "nbconvert_exporter": "python",
   "pygments_lexer": "ipython3",
   "version": "3.12.3"
  }
 },
 "nbformat": 4,
 "nbformat_minor": 5
}
